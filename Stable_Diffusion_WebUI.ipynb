{
  "nbformat": 4,
  "nbformat_minor": 0,
  "metadata": {
    "colab": {
      "provenance": [],
      "authorship_tag": "ABX9TyMaoxOAPcMVRcWKXh4+5ZSI",
      "include_colab_link": true
    },
    "kernelspec": {
      "name": "python3",
      "display_name": "Python 3"
    },
    "language_info": {
      "name": "python"
    },
    "accelerator": "GPU",
    "gpuClass": "standard"
  },
  "cells": [
    {
      "cell_type": "markdown",
      "metadata": {
        "id": "view-in-github",
        "colab_type": "text"
      },
      "source": [
        "<a href=\"https://colab.research.google.com/github/Winael/Stable-Diffusion-WebUI/blob/main/Stable_Diffusion_WebUI.ipynb\" target=\"_parent\"><img src=\"https://colab.research.google.com/assets/colab-badge.svg\" alt=\"Open In Colab\"/></a>"
      ]
    },
    {
      "cell_type": "code",
      "source": [
        "#@title Montage de Gdrive\n",
        "\n",
        "from google.colab import drive\n",
        "drive.mount('/content/gdrive')"
      ],
      "metadata": {
        "id": "QpNjHhnckzGU"
      },
      "execution_count": null,
      "outputs": []
    },
    {
      "cell_type": "code",
      "source": [
        "#@title Installation de xformers\n",
        "!pip install -q https://github.com/camenduru/stable-diffusion-webui-colab/releases/download/0.0.15/xformers-0.0.15+e163309.d20230103-cp38-cp38-linux_x86_64.whl\n"
      ],
      "metadata": {
        "id": "OF_ngZJ3Peh_"
      },
      "execution_count": null,
      "outputs": []
    },
    {
      "cell_type": "code",
      "source": [
        "#@title Installation de Stable-Diffusion WebUI\n",
        "!git clone -b v1.6 https://github.com/camenduru/stable-diffusion-webui"
      ],
      "metadata": {
        "id": "EoRyhpbYjgMs"
      },
      "execution_count": null,
      "outputs": []
    },
    {
      "cell_type": "code",
      "source": [
        "#@title Installation des extensions\n",
        "!git clone https://github.com/deforum-art/deforum-for-automatic1111-webui /content/stable-diffusion-webui/extensions/deforum-for-automatic1111-webui\n",
        "!git clone https://github.com/yfszzx/stable-diffusion-webui-images-browser /content/stable-diffusion-webui/extensions/stable-diffusion-webui-images-browser\n",
        "!git clone https://github.com/camenduru/stable-diffusion-webui-huggingface /content/stable-diffusion-webui/extensions/stable-diffusion-webui-huggingface\n",
        "!git clone https://github.com/Vetchems/sd-civitai-browser /content/stable-diffusion-webui/extensions/sd-civitai-browser"
      ],
      "metadata": {
        "id": "z8wJD_gtj8kx"
      },
      "execution_count": null,
      "outputs": []
    },
    {
      "cell_type": "code",
      "source": [
        "#@title Installation des modèles choisis\n",
        "\n",
        "import os\n",
        "import requests\n",
        "from tqdm.notebook import tqdm\n",
        "\n",
        "#@markdown ## Selectionner les modèles de votre choix Installation des modèles choisis\n",
        "dreamlike_photo_real_2 = True  # @param {type:\"boolean\"}\n",
        "cinematic_diffusion = True  # @param {type:\"boolean\"}\n",
        "\n",
        "#@markdown ##Ajouter un autre modèle :\n",
        "model_name = \"AnalogDream3D\"  # @param {type:\"string\"}\n",
        "model_url = \"https://civitai.com/api/download/models/3390\"  # @param {type:\"string\"}\n",
        "\n",
        "if dreamlike_photo_real_2:\n",
        "    print(\"Downloading dreamlikephotoreal2.ckpt..........\")\n",
        "    response = requests.get(\"https://huggingface.co/dreamlike-art/dreamlike-photoreal-2.0/resolve/main/dreamlike-photoreal-2.0.ckpt\", stream=True)\n",
        "    total_size = int(response.headers.get('content-length', 0))\n",
        "    block_size = 1024  # 1 Kibibyte\n",
        "    progress_bar = tqdm(total=total_size, unit='iB', unit_scale=True)\n",
        "    with open(\"dreamlikephotoreal2.ckpt\", \"wb\") as f:\n",
        "        for data in response.iter_content(block_size):\n",
        "            progress_bar.update(len(data))\n",
        "            f.write(data)\n",
        "    progress_bar.close()\n",
        "    os.rename(\"/content/dreamlikephotoreal2.ckpt\", \"/content/stable-diffusion-webui/models/Stable-diffusion/dreamlikephotoreal2.ckpt\")\n",
        "\n",
        "if cinematic_diffusion:\n",
        "    print(\"Downloading cinematicDiffusion.ckpt..........\")\n",
        "    response = requests.get(\"https://civitai.com/api/download/models/3395\", stream=True)\n",
        "    total_size = int(response.headers.get('content-length', 0))\n",
        "    block_size = 1024  # 1 Kibibyte\n",
        "    progress_bar = tqdm(total=total_size, unit='iB', unit_scale=True)\n",
        "    with open(\"cinematicDiffusion.ckpt\", \"wb\") as f:\n",
        "        for data in response.iter_content(block_size):\n",
        "            progress_bar.update(len(data))\n",
        "            f.write(data)\n",
        "    progress_bar.close()\n",
        "    os.rename(\"/content/cinematicDiffusion.ckpt\", \"/content/stable-diffusion-webui/models/Stable-diffusion/cinematicDiffusion.ckpt\")\n",
        "\n",
        "if model_name:\n",
        "    print(f\"Downloading {model_name}.ckpt..........\")\n",
        "    response = requests.get(model_url, stream=True)\n",
        "    total_size = int(response.headers.get('content-length', 0))\n",
        "    block_size = 1024  # 1 Kibibyte\n",
        "    progress_bar = tqdm(total=total_size, unit='iB', unit_scale=True)\n",
        "    with open(f\"{model_name}.ckpt\", \"wb\") as f:\n",
        "        for data in response.iter_content(block_size):\n",
        "            progress_bar.update(len(data))\n",
        "            f.write(data)\n",
        "    progress_bar.close()\n",
        "    os.rename(f\"/content/{model_name}.ckpt\", f\"/content/stable-diffusion-webui/models/Stable-diffusion/{model_name}.ckpt\")    "
      ],
      "metadata": {
        "id": "Pic5XgZuQs8d"
      },
      "execution_count": null,
      "outputs": []
    },
    {
      "cell_type": "code",
      "source": [
        "#@title Lancement de Stable-Diffusion\n",
        "\n",
        "%cd /content/stable-diffusion-webui\n",
        "!python launch.py --share --xformers"
      ],
      "metadata": {
        "id": "bOYjqkheSQLw"
      },
      "execution_count": null,
      "outputs": []
    },
    {
      "cell_type": "code",
      "source": [
        "#@title Récupération des éléments dans Google Drive\n",
        "\n",
        "!cp -r \"/content/stable-diffusion-webui/outputs/txt2img-images\" \"/content/gdrive/My Drive/\"\n",
        "!cp -r \"/content/stable-diffusion-webui/outputs/img2img-images\" \"/content/gdrive/My Drive/\"\n",
        "!cp -r \"/content/stable-diffusion-webui/models/Stable-diffusion/cinematicDiffusion_0.7-dreamlikephotoreal2_0.3-Weighted_sum-merged.ckpt\" \"/content/gdrive/My Drive/\"\n"
      ],
      "metadata": {
        "id": "OgnW9aEOvrDF"
      },
      "execution_count": 42,
      "outputs": []
    }
  ]
}