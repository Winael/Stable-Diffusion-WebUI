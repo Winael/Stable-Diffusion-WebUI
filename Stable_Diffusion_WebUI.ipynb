{
  "nbformat": 4,
  "nbformat_minor": 0,
  "metadata": {
    "colab": {
      "provenance": [],
      "authorship_tag": "ABX9TyM15PC2MbTKxx42pb9dBJkh",
      "include_colab_link": true
    },
    "kernelspec": {
      "name": "python3",
      "display_name": "Python 3"
    },
    "language_info": {
      "name": "python"
    },
    "accelerator": "GPU",
    "gpuClass": "standard",
    "widgets": {
      "application/vnd.jupyter.widget-state+json": {
        "db1bf825886a42c9a39e8a59c6bbd263": {
          "model_module": "@jupyter-widgets/controls",
          "model_name": "HBoxModel",
          "model_module_version": "1.5.0",
          "state": {
            "_dom_classes": [],
            "_model_module": "@jupyter-widgets/controls",
            "_model_module_version": "1.5.0",
            "_model_name": "HBoxModel",
            "_view_count": null,
            "_view_module": "@jupyter-widgets/controls",
            "_view_module_version": "1.5.0",
            "_view_name": "HBoxView",
            "box_style": "",
            "children": [
              "IPY_MODEL_b5fe667fcb1b4a8281d562dd2bedbd1f",
              "IPY_MODEL_732c4b55420a465b8df803a4b7f9ae88",
              "IPY_MODEL_cbfa5782b77b4df69c5742d82fedb9c3"
            ],
            "layout": "IPY_MODEL_c02b89a008f14edfb84afd85eb268de9"
          }
        },
        "b5fe667fcb1b4a8281d562dd2bedbd1f": {
          "model_module": "@jupyter-widgets/controls",
          "model_name": "HTMLModel",
          "model_module_version": "1.5.0",
          "state": {
            "_dom_classes": [],
            "_model_module": "@jupyter-widgets/controls",
            "_model_module_version": "1.5.0",
            "_model_name": "HTMLModel",
            "_view_count": null,
            "_view_module": "@jupyter-widgets/controls",
            "_view_module_version": "1.5.0",
            "_view_name": "HTMLView",
            "description": "",
            "description_tooltip": null,
            "layout": "IPY_MODEL_9319fe883aa54023b1bf4eedf75ae9e8",
            "placeholder": "​",
            "style": "IPY_MODEL_aca4738dfee44a6eb4b5ece6352854f0",
            "value": "100%"
          }
        },
        "732c4b55420a465b8df803a4b7f9ae88": {
          "model_module": "@jupyter-widgets/controls",
          "model_name": "FloatProgressModel",
          "model_module_version": "1.5.0",
          "state": {
            "_dom_classes": [],
            "_model_module": "@jupyter-widgets/controls",
            "_model_module_version": "1.5.0",
            "_model_name": "FloatProgressModel",
            "_view_count": null,
            "_view_module": "@jupyter-widgets/controls",
            "_view_module_version": "1.5.0",
            "_view_name": "ProgressView",
            "bar_style": "success",
            "description": "",
            "description_tooltip": null,
            "layout": "IPY_MODEL_727869b212d04af0aaf65ee7beca1a98",
            "max": 2132856686,
            "min": 0,
            "orientation": "horizontal",
            "style": "IPY_MODEL_cf61791e2b6b425caceeca82d0d97b98",
            "value": 2132856686
          }
        },
        "cbfa5782b77b4df69c5742d82fedb9c3": {
          "model_module": "@jupyter-widgets/controls",
          "model_name": "HTMLModel",
          "model_module_version": "1.5.0",
          "state": {
            "_dom_classes": [],
            "_model_module": "@jupyter-widgets/controls",
            "_model_module_version": "1.5.0",
            "_model_name": "HTMLModel",
            "_view_count": null,
            "_view_module": "@jupyter-widgets/controls",
            "_view_module_version": "1.5.0",
            "_view_name": "HTMLView",
            "description": "",
            "description_tooltip": null,
            "layout": "IPY_MODEL_51b149d693fb4931ae8388be81e2a7d2",
            "placeholder": "​",
            "style": "IPY_MODEL_af99e65429b24e0cac42188cb5aec6b0",
            "value": " 2.13G/2.13G [00:34&lt;00:00, 66.9MiB/s]"
          }
        },
        "c02b89a008f14edfb84afd85eb268de9": {
          "model_module": "@jupyter-widgets/base",
          "model_name": "LayoutModel",
          "model_module_version": "1.2.0",
          "state": {
            "_model_module": "@jupyter-widgets/base",
            "_model_module_version": "1.2.0",
            "_model_name": "LayoutModel",
            "_view_count": null,
            "_view_module": "@jupyter-widgets/base",
            "_view_module_version": "1.2.0",
            "_view_name": "LayoutView",
            "align_content": null,
            "align_items": null,
            "align_self": null,
            "border": null,
            "bottom": null,
            "display": null,
            "flex": null,
            "flex_flow": null,
            "grid_area": null,
            "grid_auto_columns": null,
            "grid_auto_flow": null,
            "grid_auto_rows": null,
            "grid_column": null,
            "grid_gap": null,
            "grid_row": null,
            "grid_template_areas": null,
            "grid_template_columns": null,
            "grid_template_rows": null,
            "height": null,
            "justify_content": null,
            "justify_items": null,
            "left": null,
            "margin": null,
            "max_height": null,
            "max_width": null,
            "min_height": null,
            "min_width": null,
            "object_fit": null,
            "object_position": null,
            "order": null,
            "overflow": null,
            "overflow_x": null,
            "overflow_y": null,
            "padding": null,
            "right": null,
            "top": null,
            "visibility": null,
            "width": null
          }
        },
        "9319fe883aa54023b1bf4eedf75ae9e8": {
          "model_module": "@jupyter-widgets/base",
          "model_name": "LayoutModel",
          "model_module_version": "1.2.0",
          "state": {
            "_model_module": "@jupyter-widgets/base",
            "_model_module_version": "1.2.0",
            "_model_name": "LayoutModel",
            "_view_count": null,
            "_view_module": "@jupyter-widgets/base",
            "_view_module_version": "1.2.0",
            "_view_name": "LayoutView",
            "align_content": null,
            "align_items": null,
            "align_self": null,
            "border": null,
            "bottom": null,
            "display": null,
            "flex": null,
            "flex_flow": null,
            "grid_area": null,
            "grid_auto_columns": null,
            "grid_auto_flow": null,
            "grid_auto_rows": null,
            "grid_column": null,
            "grid_gap": null,
            "grid_row": null,
            "grid_template_areas": null,
            "grid_template_columns": null,
            "grid_template_rows": null,
            "height": null,
            "justify_content": null,
            "justify_items": null,
            "left": null,
            "margin": null,
            "max_height": null,
            "max_width": null,
            "min_height": null,
            "min_width": null,
            "object_fit": null,
            "object_position": null,
            "order": null,
            "overflow": null,
            "overflow_x": null,
            "overflow_y": null,
            "padding": null,
            "right": null,
            "top": null,
            "visibility": null,
            "width": null
          }
        },
        "aca4738dfee44a6eb4b5ece6352854f0": {
          "model_module": "@jupyter-widgets/controls",
          "model_name": "DescriptionStyleModel",
          "model_module_version": "1.5.0",
          "state": {
            "_model_module": "@jupyter-widgets/controls",
            "_model_module_version": "1.5.0",
            "_model_name": "DescriptionStyleModel",
            "_view_count": null,
            "_view_module": "@jupyter-widgets/base",
            "_view_module_version": "1.2.0",
            "_view_name": "StyleView",
            "description_width": ""
          }
        },
        "727869b212d04af0aaf65ee7beca1a98": {
          "model_module": "@jupyter-widgets/base",
          "model_name": "LayoutModel",
          "model_module_version": "1.2.0",
          "state": {
            "_model_module": "@jupyter-widgets/base",
            "_model_module_version": "1.2.0",
            "_model_name": "LayoutModel",
            "_view_count": null,
            "_view_module": "@jupyter-widgets/base",
            "_view_module_version": "1.2.0",
            "_view_name": "LayoutView",
            "align_content": null,
            "align_items": null,
            "align_self": null,
            "border": null,
            "bottom": null,
            "display": null,
            "flex": null,
            "flex_flow": null,
            "grid_area": null,
            "grid_auto_columns": null,
            "grid_auto_flow": null,
            "grid_auto_rows": null,
            "grid_column": null,
            "grid_gap": null,
            "grid_row": null,
            "grid_template_areas": null,
            "grid_template_columns": null,
            "grid_template_rows": null,
            "height": null,
            "justify_content": null,
            "justify_items": null,
            "left": null,
            "margin": null,
            "max_height": null,
            "max_width": null,
            "min_height": null,
            "min_width": null,
            "object_fit": null,
            "object_position": null,
            "order": null,
            "overflow": null,
            "overflow_x": null,
            "overflow_y": null,
            "padding": null,
            "right": null,
            "top": null,
            "visibility": null,
            "width": null
          }
        },
        "cf61791e2b6b425caceeca82d0d97b98": {
          "model_module": "@jupyter-widgets/controls",
          "model_name": "ProgressStyleModel",
          "model_module_version": "1.5.0",
          "state": {
            "_model_module": "@jupyter-widgets/controls",
            "_model_module_version": "1.5.0",
            "_model_name": "ProgressStyleModel",
            "_view_count": null,
            "_view_module": "@jupyter-widgets/base",
            "_view_module_version": "1.2.0",
            "_view_name": "StyleView",
            "bar_color": null,
            "description_width": ""
          }
        },
        "51b149d693fb4931ae8388be81e2a7d2": {
          "model_module": "@jupyter-widgets/base",
          "model_name": "LayoutModel",
          "model_module_version": "1.2.0",
          "state": {
            "_model_module": "@jupyter-widgets/base",
            "_model_module_version": "1.2.0",
            "_model_name": "LayoutModel",
            "_view_count": null,
            "_view_module": "@jupyter-widgets/base",
            "_view_module_version": "1.2.0",
            "_view_name": "LayoutView",
            "align_content": null,
            "align_items": null,
            "align_self": null,
            "border": null,
            "bottom": null,
            "display": null,
            "flex": null,
            "flex_flow": null,
            "grid_area": null,
            "grid_auto_columns": null,
            "grid_auto_flow": null,
            "grid_auto_rows": null,
            "grid_column": null,
            "grid_gap": null,
            "grid_row": null,
            "grid_template_areas": null,
            "grid_template_columns": null,
            "grid_template_rows": null,
            "height": null,
            "justify_content": null,
            "justify_items": null,
            "left": null,
            "margin": null,
            "max_height": null,
            "max_width": null,
            "min_height": null,
            "min_width": null,
            "object_fit": null,
            "object_position": null,
            "order": null,
            "overflow": null,
            "overflow_x": null,
            "overflow_y": null,
            "padding": null,
            "right": null,
            "top": null,
            "visibility": null,
            "width": null
          }
        },
        "af99e65429b24e0cac42188cb5aec6b0": {
          "model_module": "@jupyter-widgets/controls",
          "model_name": "DescriptionStyleModel",
          "model_module_version": "1.5.0",
          "state": {
            "_model_module": "@jupyter-widgets/controls",
            "_model_module_version": "1.5.0",
            "_model_name": "DescriptionStyleModel",
            "_view_count": null,
            "_view_module": "@jupyter-widgets/base",
            "_view_module_version": "1.2.0",
            "_view_name": "StyleView",
            "description_width": ""
          }
        }
      }
    }
  },
  "cells": [
    {
      "cell_type": "markdown",
      "metadata": {
        "id": "view-in-github",
        "colab_type": "text"
      },
      "source": [
        "<a href=\"https://colab.research.google.com/github/Winael/Stable-Diffusion-WebUI/blob/main/Stable_Diffusion_WebUI.ipynb\" target=\"_parent\"><img src=\"https://colab.research.google.com/assets/colab-badge.svg\" alt=\"Open In Colab\"/></a>"
      ]
    },
    {
      "cell_type": "code",
      "source": [
        "#@title Installation de Stable-diffusion WebUI\n",
        "!git clone https://gitgud.io/AUTOMATIC1111/stable-diffusion-webui.git"
      ],
      "metadata": {
        "colab": {
          "base_uri": "https://localhost:8080/"
        },
        "id": "OF_ngZJ3Peh_",
        "outputId": "703370bf-73f5-4c36-89a5-867ba2c05d9c",
        "cellView": "form"
      },
      "execution_count": 6,
      "outputs": [
        {
          "output_type": "stream",
          "name": "stdout",
          "text": [
            "Cloning into 'stable-diffusion-webui'...\n",
            "remote: Enumerating objects: 13437, done.\u001b[K\n",
            "remote: Total 13437 (delta 0), reused 0 (delta 0), pack-reused 13437\u001b[K\n",
            "Receiving objects: 100% (13437/13437), 23.50 MiB | 23.39 MiB/s, done.\n",
            "Resolving deltas: 100% (9625/9625), done.\n"
          ]
        }
      ]
    },
    {
      "cell_type": "code",
      "source": [
        "#@title Installation de l'extension stable-diffusion-webui-images-browser\n",
        "!git clone https://github.com/yfszzx/stable-diffusion-webui-images-browser /content/stable-diffusion-webui/extensions/stable-diffusion-webui-images-browser\n"
      ],
      "metadata": {
        "colab": {
          "base_uri": "https://localhost:8080/"
        },
        "id": "sUpJUUoYQIJC",
        "outputId": "a88a8ce4-8fff-4042-aca9-a4388987f61f",
        "cellView": "form"
      },
      "execution_count": 2,
      "outputs": [
        {
          "output_type": "stream",
          "name": "stdout",
          "text": [
            "Cloning into '/content/stable-diffusion-webui/extensions/stable-diffusion-webui-images-browser'...\n",
            "remote: Enumerating objects: 143, done.\u001b[K\n",
            "remote: Counting objects: 100% (27/27), done.\u001b[K\n",
            "remote: Compressing objects: 100% (16/16), done.\u001b[K\n",
            "remote: Total 143 (delta 10), reused 17 (delta 9), pack-reused 116\u001b[K\n",
            "Receiving objects: 100% (143/143), 41.07 KiB | 372.00 KiB/s, done.\n",
            "Resolving deltas: 100% (48/48), done.\n"
          ]
        }
      ]
    },
    {
      "cell_type": "code",
      "source": [
        "#@title Installation de xformers\n",
        "%pip install -q https://github.com/nolanaatama/xformers-wheels/releases/download/xformers/xformers-0.0.15.dev0+4c06c79.d20221205-cp38-cp38-linux_x86_64.whl"
      ],
      "metadata": {
        "colab": {
          "base_uri": "https://localhost:8080/"
        },
        "id": "Qxh3kKRQQcV3",
        "outputId": "ce5951d3-f09b-485c-8ac9-cd4b63538c03",
        "cellView": "form"
      },
      "execution_count": 3,
      "outputs": [
        {
          "output_type": "stream",
          "name": "stdout",
          "text": [
            "\u001b[2K     \u001b[90m━━━━━━━━━━━━━━━━━━━━━━━━━━━━━━━━━━━━━━━━\u001b[0m \u001b[32m47.4/47.4 MB\u001b[0m \u001b[31m12.7 MB/s\u001b[0m eta \u001b[36m0:00:00\u001b[0m\n",
            "\u001b[?25h"
          ]
        }
      ]
    },
    {
      "cell_type": "code",
      "source": [
        "#@title Installation des modèles choisis\n",
        "\n",
        "import os\n",
        "import requests\n",
        "from tqdm.notebook import tqdm\n",
        "\n",
        "#@markdown ## Selectionner les modèles de votre choix Installation des modèles choisis\n",
        "dreamlike_photo_real_2 = True  # @param {type:\"boolean\"}\n",
        "cinematic_diffusion = False  # @param {type:\"boolean\"}\n",
        "\n",
        "#@markdown ##Ajouter un autre modèle :\n",
        "model_name = \"\"  # @param {type:\"string\"}\n",
        "model_url = \"https://civitai.com/api/download/models/3390\"  # @param {type:\"string\"}\n",
        "\n",
        "if dreamlike_photo_real_2:\n",
        "    print(\"Downloading dreamlikephotoreal2.ckpt..........\")\n",
        "    response = requests.get(\"https://huggingface.co/dreamlike-art/dreamlike-photoreal-2.0/resolve/main/dreamlike-photoreal-2.0.ckpt\", stream=True)\n",
        "    total_size = int(response.headers.get('content-length', 0))\n",
        "    block_size = 1024  # 1 Kibibyte\n",
        "    progress_bar = tqdm(total=total_size, unit='iB', unit_scale=True)\n",
        "    with open(\"dreamlikephotoreal2.ckpt\", \"wb\") as f:\n",
        "        for data in response.iter_content(block_size):\n",
        "            progress_bar.update(len(data))\n",
        "            f.write(data)\n",
        "    progress_bar.close()\n",
        "    os.rename(\"/content/dreamlikephotoreal2.ckpt\", \"/content/stable-diffusion-webui/models/Stable-diffusion/dreamlikephotoreal2.ckpt\")\n",
        "\n",
        "if cinematic_diffusion:\n",
        "    print(\"Downloading cinematicDiffusion.ckpt..........\")\n",
        "    response = requests.get(\"https://civitai.com/api/download/models/3395\", stream=True)\n",
        "    total_size = int(response.headers.get('content-length', 0))\n",
        "    block_size = 1024  # 1 Kibibyte\n",
        "    progress_bar = tqdm(total=total_size, unit='iB', unit_scale=True)\n",
        "    with open(\"cinematicDiffusion.ckpt\", \"wb\") as f:\n",
        "        for data in response.iter_content(block_size):\n",
        "            progress_bar.update(len(data))\n",
        "            f.write(data)\n",
        "    progress_bar.close()\n",
        "    os.rename(\"/content/cinematicDiffusion.ckpt\", \"/content/stable-diffusion-webui/models/Stable-diffusion/cinematicDiffusion.ckpt\")\n",
        "\n",
        "if model_name:\n",
        "    print(f\"Downloading {model_name}.ckpt..........\")\n",
        "    response = requests.get(model_url, stream=True)\n",
        "    total_size = int(response.headers.get('content-length', 0))\n",
        "    block_size = 1024  # 1 Kibibyte\n",
        "    progress_bar = tqdm(total=total_size, unit='iB', unit_scale=True)\n",
        "    with open(f\"{model_name}.ckpt\", \"wb\") as f:\n",
        "        for data in response.iter_content(block_size):\n",
        "            progress_bar.update(len(data))\n",
        "            f.write(data)\n",
        "    progress_bar.close()\n",
        "    os.rename(f\"/content/{model_name}.ckpt\", f\"/content/stable-diffusion-webui/models/Stable-diffusion/{model_name}.ckpt\")    "
      ],
      "metadata": {
        "id": "Pic5XgZuQs8d",
        "colab": {
          "base_uri": "https://localhost:8080/",
          "height": 66,
          "referenced_widgets": [
            "db1bf825886a42c9a39e8a59c6bbd263",
            "b5fe667fcb1b4a8281d562dd2bedbd1f",
            "732c4b55420a465b8df803a4b7f9ae88",
            "cbfa5782b77b4df69c5742d82fedb9c3",
            "c02b89a008f14edfb84afd85eb268de9",
            "9319fe883aa54023b1bf4eedf75ae9e8",
            "aca4738dfee44a6eb4b5ece6352854f0",
            "727869b212d04af0aaf65ee7beca1a98",
            "cf61791e2b6b425caceeca82d0d97b98",
            "51b149d693fb4931ae8388be81e2a7d2",
            "af99e65429b24e0cac42188cb5aec6b0"
          ]
        },
        "cellView": "form",
        "outputId": "cf2fb600-ecb8-4910-fd0c-649a68edabc8"
      },
      "execution_count": 4,
      "outputs": [
        {
          "output_type": "stream",
          "name": "stdout",
          "text": [
            "Downloading dreamlikephotoreal2.ckpt..........\n"
          ]
        },
        {
          "output_type": "display_data",
          "data": {
            "text/plain": [
              "  0%|          | 0.00/2.13G [00:00<?, ?iB/s]"
            ],
            "application/vnd.jupyter.widget-view+json": {
              "version_major": 2,
              "version_minor": 0,
              "model_id": "db1bf825886a42c9a39e8a59c6bbd263"
            }
          },
          "metadata": {}
        }
      ]
    },
    {
      "cell_type": "code",
      "source": [
        "#@title Installation d'un fix temporaire\n",
        "\n",
        "%cd /content/stable-diffusion-webui\n",
        "!git checkout 11d432d # temporary fix\n",
        "\n"
      ],
      "metadata": {
        "colab": {
          "base_uri": "https://localhost:8080/"
        },
        "id": "cR9fUwjyRNnw",
        "outputId": "b9f719d1-a0f4-4b1b-f65b-ffe83e8f736f",
        "cellView": "form"
      },
      "execution_count": 5,
      "outputs": [
        {
          "output_type": "stream",
          "name": "stdout",
          "text": [
            "/content/stable-diffusion-webui\n",
            "Note: checking out '11d432d'.\n",
            "\n",
            "You are in 'detached HEAD' state. You can look around, make experimental\n",
            "changes and commit them, and you can discard any commits you make in this\n",
            "state without impacting any branches by performing another checkout.\n",
            "\n",
            "If you want to create a new branch to retain commits you create, you may\n",
            "do so (now or later) by using -b with the checkout command again. Example:\n",
            "\n",
            "  git checkout -b <new-branch-name>\n",
            "\n",
            "HEAD is now at 11d432d add refresh buttons to checkpoint merger\n"
          ]
        }
      ]
    },
    {
      "cell_type": "code",
      "source": [
        "#@title Lancement de Stable-Diffusion\n",
        "\n",
        "!COMMANDLINE_ARGS=\"--share --gradio-debug --medvram --disable-safe-unpickle --xformers\" REQS_FILE=\"requirements.txt\" python launch.py"
      ],
      "metadata": {
        "colab": {
          "base_uri": "https://localhost:8080/"
        },
        "id": "bOYjqkheSQLw",
        "outputId": "6900fafb-e0e0-4f06-d703-63f368c3cb9f",
        "cellView": "form"
      },
      "execution_count": null,
      "outputs": [
        {
          "output_type": "stream",
          "name": "stdout",
          "text": [
            "python3: can't open file 'launch.py': [Errno 2] No such file or directory\n"
          ]
        }
      ]
    }
  ]
}